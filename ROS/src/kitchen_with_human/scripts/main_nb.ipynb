{
 "cells": [
  {
   "cell_type": "code",
   "execution_count": null,
   "metadata": {},
   "outputs": [],
   "source": [
    "import rospy \n",
    "import numpy as np \n",
    "import time \n",
    "from structure.utils.utils_structure import *\n",
    "from structure.class_robot import *\n",
    "from planning.class_rrt_star import RRT_STAR\n",
    "from structure.class_object import OBJECT"
   ]
  },
  {
   "cell_type": "code",
   "execution_count": null,
   "metadata": {},
   "outputs": [],
   "source": [
    "filename = \"urdf/ur5e_onrobot.urdf\"\n",
    "pyfcl = PyFCL()\n",
    "robot = ROBOT(_filename = filename) \n",
    "robot.chain.fk_chain(1)\n",
    "robot.chain.fk_link_chain(1)\n",
    "ctrl_num = robot.ctrl_joint_num"
   ]
  },
  {
   "cell_type": "code",
   "execution_count": null,
   "metadata": {},
   "outputs": [],
   "source": [
    "\"\"\" \n",
    "argument: start=[x1, y1, z1], goal = [x2, y2, z2]\n",
    "\"\"\"\n",
    "def ExecuteConstPlan(start, goal, obs_lst):\n",
    "    start_ingred = make_ik_input(target_name=['wrist_3_joint'], \n",
    "                            target_pos= [start],\n",
    "                            target_rot=[[-1.57, 0, 1.57]],\n",
    "                            solve_pos=[1],\n",
    "                            solve_rot=[1],\n",
    "                            weight_pos=1,\n",
    "                            weight_rot=1,\n",
    "                            disabled_joi_id=[],\n",
    "                            joi_ctrl_num=ctrl_num)\n",
    "    \n",
    "    goal_ingred = make_ik_input(target_name=['wrist_3_joint'], \n",
    "                            target_pos= [goal],\n",
    "                            target_rot=[[-1.57, 0, 1.57]],\n",
    "                            solve_pos=[1],\n",
    "                            solve_rot=[1],\n",
    "                            weight_pos=1,\n",
    "                            weight_rot=1,\n",
    "                            disabled_joi_id=[],\n",
    "                            joi_ctrl_num=ctrl_num)\n",
    "    \n",
    "    start_joi = robot.chain.get_q_from_ik(start_ingred)\n",
    "    goal_joi  = robot.chain.get_q_from_ik(goal_ingred)\n",
    "\n",
    "    if obs_lst != []: \n",
    "        obsBox_lst = []\n",
    "        for obs in obs_lst: \n",
    "            obsBox = make_box(name=obs[\"name\"], pos=obs[\"pos\"], rot=obs[\"rot\"], size=obs[\"size\"]) \n",
    "            obsBox_lst.append(obsBox)\n",
    "    else: \n",
    "        obsBox_lst=[]\n",
    "\n",
    "    # Many2Many CC\n",
    "    def is_in_collision(joints):\n",
    "        if robot.is_collision(joints, obsBox_lst):\n",
    "            return True \n",
    "        return False \n",
    "    \n",
    "    rrtStar = RRT_STAR(robot, is_in_collision)\n",
    "    plan, _ = rrtStar.plan(start_joi, goal_joi)\n",
    "    return plan, obsBox_lst\n",
    "    "
   ]
  },
  {
   "cell_type": "code",
   "execution_count": null,
   "metadata": {},
   "outputs": [],
   "source": [
    "\"\"\" Planning \"\"\"\n",
    "\n",
    "_star    = [0.6,-0.2,0.7]\n",
    "_goal    = [0.45,0.6,0.5]\n",
    "_obs_lst = []\n",
    "plan, obsBox_lst = ExecuteConstPlan(start=_star,goal=_goal, obs_lst=_obs_lst)"
   ]
  },
  {
   "cell_type": "code",
   "execution_count": null,
   "metadata": {},
   "outputs": [],
   "source": [
    "\"\"\" Set objects in Unity \"\"\"\n",
    "table = {\"pos\":[0,0,0], \"rot\":[0,0,0], \"mesh\":\"\", \"size\":[1, 1, 1]}\n",
    "objMesh_list = [table]"
   ]
  },
  {
   "cell_type": "code",
   "execution_count": null,
   "metadata": {},
   "outputs": [],
   "source": [
    "print(plan)"
   ]
  },
  {
   "cell_type": "code",
   "execution_count": null,
   "metadata": {},
   "outputs": [],
   "source": [
    "\"\"\" VISUALIZE \"\"\"\n",
    "opt_rendering=0\n",
    "rate = rospy.Rate(10)\n",
    "\n",
    "while not rospy.is_shutdown():\n",
    "    print(\"start\")\n",
    "    while not rospy.is_shutdown(): \n",
    "        optimial_joints = plan[opt_rendering% len(plan)]\n",
    "        robot.publish_opt_path(optimial_joints, r=0,g=0,b=1)\n",
    "        robot.publish_obs(obsBox_lst)\n",
    "        robot.publish_obj(objMesh_list)\n",
    "        opt_rendering+=1\n",
    "        if opt_rendering == len(plan)-1:\n",
    "            break  \n",
    "        rate.sleep()"
   ]
  },
  {
   "cell_type": "code",
   "execution_count": null,
   "metadata": {},
   "outputs": [],
   "source": []
  }
 ],
 "metadata": {
  "interpreter": {
   "hash": "767d51c1340bd893661ea55ea3124f6de3c7a262a8b4abca0554b478b1e2ff90"
  },
  "kernelspec": {
   "display_name": "Python 2.7.17 64-bit",
   "language": "python",
   "name": "python3"
  },
  "language_info": {
   "codemirror_mode": {
    "name": "ipython",
    "version": 2
   },
   "file_extension": ".py",
   "mimetype": "text/x-python",
   "name": "python",
   "nbconvert_exporter": "python",
   "pygments_lexer": "ipython2",
   "version": "2.7.17"
  },
  "orig_nbformat": 4
 },
 "nbformat": 4,
 "nbformat_minor": 2
}
